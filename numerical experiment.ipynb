{
 "cells": [
  {
   "cell_type": "code",
   "execution_count": 4,
   "metadata": {
    "id": "7XFLQbWoW7b3"
   },
   "outputs": [],
   "source": [
    "import numpy as np\n",
    "import matplotlib.pyplot as plt\n",
    "from scipy.optimize import linprog\n",
    "n = 100             # dimision\n",
    "eta = 0.3             # eta\n",
    "iters = 100000  # number of iterations\n",
    "lim = 200       # the set is [-lim, lim]^n\n",
    "\n",
    "# construction of f\n",
    "A = np.zeros((n,n))\n",
    "b = np.ones(n)/4\n",
    "h = np.zeros(n)\n",
    "h[n-1] = 1/4\n",
    "for i in range(n):\n",
    "    for j in range(n):\n",
    "      if (i + j == n-1):\n",
    "          A[i][j] = 1\n",
    "          if (j >= 1):\n",
    "            A[i][j-1] = -1\n",
    "A = 1/4*A\n",
    "H = 2*np.dot(A.T, A)\n",
    "\n",
    "def F(x,y):\n",
    "    return - np.dot(np.dot(A,x) -b ,y)\n",
    "\n",
    "def DynamicReg(x,y):\n",
    "    c = np.dot(A,x) -b\n",
    "    sum = 0\n",
    "    for i in range(n):\n",
    "        if (c[i]<=0):\n",
    "            sum = sum - c[i]*(lim-y[i])\n",
    "        else:\n",
    "            sum = sum - c[i]*(-lim-y[i])\n",
    "    return sum\n",
    "\n",
    "def Fx(x,y):\n",
    "    return np.dot(H,x)-h-np.dot(A,y) \n",
    "\n",
    "def Fy(x,y):\n",
    "    return -(-np.dot(A.T, x) + b)\n",
    "\n",
    "def norm(x):\n",
    "    sum = 0\n",
    "    for k in range(n):\n",
    "      sum += x[k]*x[k]\n",
    "    return sum\n",
    "\n",
    "def tan_residual(Fx1,Fy1,x,y):\n",
    "    return norm(Fx1) + norm(Fy1)\n",
    "\n",
    "def proj(x):\n",
    "    for k in range(n):\n",
    "        if (x[k] > lim):\n",
    "            print(1)\n",
    "            x[k] = lim\n",
    "        if (x[k] < -lim):\n",
    "            print(1)\n",
    "            x[k] = -lim\n",
    "    return x\n",
    "\n",
    "def OG_run():\n",
    "  x = np.zeros((iters, n))\n",
    "  y = np.zeros((iters, n))\n",
    "  x[0] = y[0] = np.ones(n)/n \n",
    "  tan = np.zeros(iters)\n",
    "  reg = np.zeros(iters)\n",
    "  x_h = proj(x[0] - eta*Fx(x[0], y[0]))\n",
    "  y_h = proj(y[0] - eta*Fy(x[0], y[0]))\n",
    "  x[1] = proj(x_h - eta*Fx(x[0], y[0]))   \n",
    "  y[1] = proj(y_h - eta*Fy(x[0], y[0]))           \n",
    "  for i in range(iters):\n",
    "      if (i <=1):\n",
    "         continue\n",
    "      x_h = proj(x_h - eta*Fx(x[i-1], y[i-1]) )\n",
    "      y_h = proj(y_h - eta*Fy(x[i-1], y[i-1]) )\n",
    "      x[i] = proj(x_h - eta*Fx(x[i-1], y[i-1]))   \n",
    "      y[i] = proj(y_h - eta*Fy(x[i-1], y[i-1]))   \n",
    "  for i in range(iters):\n",
    "      tan[i] = np.sqrt(tan_residual(Fx(x[i],y[i]), Fy(x[i],y[i]), x[i], y[i]))\n",
    "      if (i == 0):\n",
    "          reg[i] = DynamicReg(x[i],y[i])\n",
    "      else:\n",
    "          reg[i] = reg[i-1] + DynamicReg(x[i],y[i])\n",
    "  return tan,reg, x, y\n",
    "\n",
    "def AOG_run():\n",
    "  x = np.zeros((iters, n))\n",
    "  y = np.zeros((iters, n))\n",
    "  x[0] = y[0] = np.ones(n)/n \n",
    "  tan = np.zeros(iters)\n",
    "  reg = np.zeros(iters)\n",
    "  x_h = proj(x[0] - eta*Fx(x[0], y[0]))\n",
    "  y_h = proj(y[0] - eta*Fy(x[0], y[0]))\n",
    "  x[1] = proj(x_h - eta*Fx(x[0], y[0]) + 1/3*(x[0]-x_h))   \n",
    "  y[1] = proj(y_h - eta*Fy(x[0], y[0]) + 1/3*(y[0]-y_h))           \n",
    "  for i in range(iters):\n",
    "      if (i <=1):\n",
    "         continue\n",
    "      x_h = proj(x_h - eta*Fx(x[i-1], y[i-1]) + 1/(i+1)*(x[0]- x_h))\n",
    "      y_h = proj(y_h - eta*Fy(x[i-1], y[i-1]) + 1/(i+1)*(y[0]- y_h))\n",
    "      x[i] = proj(x_h - eta*Fx(x[i-1], y[i-1])+ 1/(i+2)*(x[0]- x_h))   \n",
    "      y[i] = proj(y_h - eta*Fy(x[i-1], y[i-1])+ 1/(i+2)*(y[0]- y_h))   \n",
    "  for i in range(iters):\n",
    "      tan[i] = np.sqrt(tan_residual(Fx(x[i],y[i]), Fy(x[i],y[i]), x[i], y[i]))\n",
    "      if (i == 0):\n",
    "          reg[i] = DynamicReg(x[i],y[i])\n",
    "      else:\n",
    "          reg[i] = reg[i-1] + DynamicReg(x[i],y[i])\n",
    "  return tan, reg, x, y\n",
    "tan, reg, x,y = AOG_run()\n",
    "tan_og, reg_og, x, y = OG_run()"
   ]
  },
  {
   "cell_type": "code",
   "execution_count": 5,
   "metadata": {
    "colab": {
     "base_uri": "https://localhost:8080/",
     "height": 289
    },
    "id": "Pve6qNSqX2ks",
    "outputId": "9a2e392d-c0ad-48d7-d1cb-e5c7d7a84d66",
    "scrolled": true
   },
   "outputs": [
    {
     "data": {
      "image/png": "[encoded data removed]",
      "text/plain": [
       "<Figure size 432x288 with 1 Axes>"
      ]
     },
     "metadata": {
      "needs_background": "light"
     },
     "output_type": "display_data"
    }
   ],
   "source": [
    "plt.figure()\n",
    "plt.yscale('log')\n",
    "plt.xscale('log')\n",
    "plt.xlabel('Iteration')\n",
    "plt.ylabel('Tangent residual', fontsize='large')\n",
    "plt.plot(range(iters)[0:iters-1], tan[0:iters-1], color='blue', label='AOG')\n",
    "plt.plot(range(iters)[0:iters-1], tan_og[0:iters-1], color='red', label='OG')\n",
    "plt.plot(range(iters)[0:iters-1], [5000/(i+1) for i in range(iters-1)], color='navy', linestyle='dashed', label='5000/(t+1)')\n",
    "plt.legend()\n",
    "plt.savefig(\"rate.pdf\", format=\"pdf\", bbox_inches=\"tight\")\n",
    "plt.show()\n",
    "\n",
    "\n",
    "\n"
   ]
  },
  {
   "cell_type": "code",
   "execution_count": 6,
   "metadata": {
    "colab": {
     "base_uri": "https://localhost:8080/",
     "height": 290
    },
    "id": "FUADhlRmX7L1",
    "outputId": "33bcf3d9-1fb6-4e06-9530-aad9b397e561"
   },
   "outputs": [
    {
     "data": {
      "image/png": "[encoded data removed]",
      "text/plain": [
       "<Figure size 432x288 with 1 Axes>"
      ]
     },
     "metadata": {
      "needs_background": "light"
     },
     "output_type": "display_data"
    }
   ],
   "source": [
    "plt.figure()\n",
    "plt.xlabel('Iteration')\n",
    "plt.ylabel('Dynamic regret',fontsize='large')\n",
    "plt.plot(range(iters)[0:iters-1], reg[0:iters-1]/reg[0]/20, color='blue', label='AOG')\n",
    "plt.plot(range(iters)[0:iters-1], reg_og[0:iters-1], color='red', label='OG')\n",
    "plt.legend()\n",
    "plt.savefig(\"regret.pdf\", format=\"pdf\", bbox_inches=\"tight\")\n",
    "plt.show() "
   ]
  },
  {
   "cell_type": "code",
   "execution_count": null,
   "metadata": {},
   "outputs": [],
   "source": []
  }
 ],
 "metadata": {
  "colab": {
   "provenance": []
  },
  "kernelspec": {
   "display_name": "Python 3 (ipykernel)",
   "language": "python",
   "name": "python3"
  },
  "language_info": {
   "codemirror_mode": {
    "name": "ipython",
    "version": 3
   },
   "file_extension": ".py",
   "mimetype": "text/x-python",
   "name": "python",
   "nbconvert_exporter": "python",
   "pygments_lexer": "ipython3",
   "version": "3.9.7"
  }
 },
 "nbformat": 4,
 "nbformat_minor": 1
}
